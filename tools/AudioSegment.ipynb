{
  "nbformat": 4,
  "nbformat_minor": 0,
  "metadata": {
    "colab": {
      "name": "AudioSegment.ipynb",
      "provenance": [],
      "authorship_tag": "ABX9TyP/u/l2sKidozOfPihFHsjz",
      "include_colab_link": true
    },
    "kernelspec": {
      "name": "python3",
      "display_name": "Python 3"
    },
    "language_info": {
      "name": "python"
    }
  },
  "cells": [
    {
      "cell_type": "markdown",
      "metadata": {
        "id": "view-in-github",
        "colab_type": "text"
      },
      "source": [
        "<a href=\"https://colab.research.google.com/github/mdjamina/m1_phonetics/blob/main/tools/AudioSegment.ipynb\" target=\"_parent\"><img src=\"https://colab.research.google.com/assets/colab-badge.svg\" alt=\"Open In Colab\"/></a>"
      ]
    },
    {
      "cell_type": "code",
      "source": [
        "!pip install pydub"
      ],
      "metadata": {
        "colab": {
          "base_uri": "https://localhost:8080/"
        },
        "id": "oHaf2PbxnW3j",
        "outputId": "b15f87a2-62fa-43e7-b419-2ca939cf8836"
      },
      "execution_count": 1,
      "outputs": [
        {
          "output_type": "stream",
          "name": "stdout",
          "text": [
            "Looking in indexes: https://pypi.org/simple, https://us-python.pkg.dev/colab-wheels/public/simple/\n",
            "Collecting pydub\n",
            "  Downloading pydub-0.25.1-py2.py3-none-any.whl (32 kB)\n",
            "Installing collected packages: pydub\n",
            "Successfully installed pydub-0.25.1\n"
          ]
        }
      ]
    },
    {
      "cell_type": "code",
      "execution_count": 12,
      "metadata": {
        "id": "1Ckf2eSgnIi0"
      },
      "outputs": [],
      "source": [
        "from pydub import AudioSegment\n",
        "import os\n",
        "\n",
        "def AudioSegmentToMONO(file_src):\n",
        "  sound = AudioSegment.from_wav(file_src)\n",
        "  sound = sound.set_channels(1)\n",
        "  file_trg = file_src.replace(\".wav\",\"_mono.wav\")\n",
        "  sound.export(file_trg, format=\"wav\")"
      ]
    },
    {
      "cell_type": "code",
      "source": [
        "directory = '/content/'\n",
        "\n",
        "for filename in os.listdir(directory):\n",
        "    #f = os.path.join(directory, filename)\n",
        "    # checking if it is a file\n",
        "    if os.path.isfile(filename):\n",
        "        AudioSegmentToMONO(filename)"
      ],
      "metadata": {
        "id": "olQFton0uQgz"
      },
      "execution_count": 13,
      "outputs": []
    }
  ]
}