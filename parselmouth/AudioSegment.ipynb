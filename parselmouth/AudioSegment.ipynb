{
  "nbformat": 4,
  "nbformat_minor": 0,
  "metadata": {
    "colab": {
      "name": "AudioSegment.ipynb",
      "provenance": [],
      "authorship_tag": "ABX9TyPJoieivC1O6oZBZOKscBkD",
      "include_colab_link": true
    },
    "kernelspec": {
      "name": "python3",
      "display_name": "Python 3"
    },
    "language_info": {
      "name": "python"
    }
  },
  "cells": [
    {
      "cell_type": "markdown",
      "metadata": {
        "id": "view-in-github",
        "colab_type": "text"
      },
      "source": [
        "<a href=\"https://colab.research.google.com/github/mdjamina/m1_phonetics/blob/dev_init/AudioSegment.ipynb\" target=\"_parent\"><img src=\"https://colab.research.google.com/assets/colab-badge.svg\" alt=\"Open In Colab\"/></a>"
      ]
    },
    {
      "cell_type": "code",
      "source": [
        "!pip install pydub"
      ],
      "metadata": {
        "colab": {
          "base_uri": "https://localhost:8080/"
        },
        "id": "oHaf2PbxnW3j",
        "outputId": "da0d83db-4f1f-49e4-c365-7d2f5527822b"
      },
      "execution_count": null,
      "outputs": [
        {
          "output_type": "stream",
          "name": "stdout",
          "text": [
            "Collecting pydub\n",
            "  Downloading pydub-0.25.1-py2.py3-none-any.whl (32 kB)\n",
            "Installing collected packages: pydub\n",
            "Successfully installed pydub-0.25.1\n"
          ]
        }
      ]
    },
    {
      "cell_type": "code",
      "execution_count": null,
      "metadata": {
        "id": "1Ckf2eSgnIi0"
      },
      "outputs": [],
      "source": [
        "from pydub import AudioSegment\n",
        "sound = AudioSegment.from_wav(\"file.wav\")\n",
        "sound = sound.set_channels(1)\n",
        "sound.export(\"file_mono.wav\", format=\"wav\")"
      ]
    }
  ]
}